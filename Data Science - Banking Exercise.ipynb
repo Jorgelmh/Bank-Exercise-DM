{
 "cells": [
  {
   "cell_type": "code",
   "execution_count": 83,
   "metadata": {},
   "outputs": [],
   "source": [
    "import pandas as pd\n",
    "import numpy as np\n",
    "import matplotlib.pyplot as plt\n",
    "from sklearn.model_selection import train_test_split, GridSearchCV\n",
    "from sklearn.linear_model import LogisticRegression\n",
    "from sklearn.preprocessing import StandardScaler\n",
    "from sklearn.neural_network import MLPClassifier\n",
    "from sklearn.tree import DecisionTreeClassifier\n",
    "from sklearn.metrics import accuracy_score"
   ]
  },
  {
   "cell_type": "code",
   "execution_count": 84,
   "metadata": {},
   "outputs": [
    {
     "data": {
      "text/plain": [
       "(2000, 14)"
      ]
     },
     "execution_count": 84,
     "metadata": {},
     "output_type": "execute_result"
    }
   ],
   "source": [
    "df = pd.read_csv('./loans.csv')\n",
    "df.shape"
   ]
  },
  {
   "cell_type": "code",
   "execution_count": 85,
   "metadata": {},
   "outputs": [
    {
     "name": "stdout",
     "output_type": "stream",
     "text": [
      "Customer ID | 0.0 | int64\n",
      "Fictional Surname | 0.0 | object\n",
      "Age | 0.0 | int64\n",
      "Gender | 0.0 | object\n",
      "Years at address | 0.0 | int64\n",
      "Employment status | 0.0 | object\n",
      "Country | 0.0 | object\n",
      "Current debt | 0.0 | int64\n",
      "Postcode | 0.0 | object\n",
      "Income | 0.0 | int64\n",
      "Own home | 0.0 | object\n",
      "CCJs | 0.0 | int64\n",
      "Loan amount | 0.0 | int64\n",
      "Outcome | 0.0 | object\n"
     ]
    }
   ],
   "source": [
    "n_entries = df.shape[0]\n",
    "\n",
    "def checkNullValues():\n",
    "    for column in df:\n",
    "        print(\"{} | {} | {}\".format(\n",
    "            df[column].name,\n",
    "            len(df[df[column].isnull()]) / (1.0*n_entries),\n",
    "            df[column].dtype\n",
    "        ))\n",
    "checkNullValues()"
   ]
  },
  {
   "cell_type": "code",
   "execution_count": 86,
   "metadata": {},
   "outputs": [
    {
     "data": {
      "text/plain": [
       "<AxesSubplot:title={'center':'Gender distribution of individuals who defaulted'}>"
      ]
     },
     "execution_count": 86,
     "metadata": {},
     "output_type": "execute_result"
    },
    {
     "data": {
      "image/png": "[encoded data removed]",
      "text/plain": [
       "<Figure size 432x288 with 1 Axes>"
      ]
     },
     "metadata": {
      "needs_background": "light"
     },
     "output_type": "display_data"
    }
   ],
   "source": [
    "plt.title('Gender distribution of individuals who defaulted')\n",
    "df[df.Outcome == 'Defaulted'].Gender.value_counts().plot.barh(legend=True)"
   ]
  },
  {
   "cell_type": "code",
   "execution_count": 87,
   "metadata": {},
   "outputs": [
    {
     "data": {
      "text/plain": [
       "<AxesSubplot:title={'center':'Base gender distribution'}>"
      ]
     },
     "execution_count": 87,
     "metadata": {},
     "output_type": "execute_result"
    },
    {
     "data": {
      "image/png": "[encoded data removed]",
      "text/plain": [
       "<Figure size 432x288 with 1 Axes>"
      ]
     },
     "metadata": {
      "needs_background": "light"
     },
     "output_type": "display_data"
    }
   ],
   "source": [
    "plt.title('Base gender distribution')\n",
    "df.Gender.value_counts().plot.barh(legend=True)"
   ]
  },
  {
   "cell_type": "code",
   "execution_count": 88,
   "metadata": {},
   "outputs": [
    {
     "data": {
      "text/plain": [
       "M         1017\n",
       "F          968\n",
       "Female       4\n",
       "Male         3\n",
       "H            2\n",
       "1            2\n",
       "N            2\n",
       "0            1\n",
       "D            1\n",
       "Name: Gender, dtype: int64"
      ]
     },
     "execution_count": 88,
     "metadata": {},
     "output_type": "execute_result"
    }
   ],
   "source": [
    "df.Gender.value_counts()"
   ]
  },
  {
   "cell_type": "code",
   "execution_count": 89,
   "metadata": {},
   "outputs": [
    {
     "data": {
      "text/plain": [
       "2.468513853904282"
      ]
     },
     "execution_count": 89,
     "metadata": {},
     "output_type": "execute_result"
    }
   ],
   "source": [
    "49 * 100 / (1017 + 968)"
   ]
  },
  {
   "cell_type": "code",
   "execution_count": 90,
   "metadata": {},
   "outputs": [
    {
     "data": {
      "text/plain": [
       "M         459\n",
       "F         413\n",
       "H           2\n",
       "1           2\n",
       "Male        2\n",
       "0           1\n",
       "D           1\n",
       "Female      1\n",
       "N           1\n",
       "Name: Gender, dtype: int64"
      ]
     },
     "execution_count": 90,
     "metadata": {},
     "output_type": "execute_result"
    }
   ],
   "source": [
    "df[df.Outcome == 'Defaulted'].Gender.value_counts()"
   ]
  },
  {
   "cell_type": "code",
   "execution_count": 91,
   "metadata": {},
   "outputs": [
    {
     "data": {
      "text/plain": [
       "5.275229357798165"
      ]
     },
     "execution_count": 91,
     "metadata": {},
     "output_type": "execute_result"
    }
   ],
   "source": [
    "46 * 100 / (459 + 413)"
   ]
  },
  {
   "cell_type": "code",
   "execution_count": 92,
   "metadata": {},
   "outputs": [
    {
     "data": {
      "text/plain": [
       "<AxesSubplot:ylabel='Density'>"
      ]
     },
     "execution_count": 92,
     "metadata": {},
     "output_type": "execute_result"
    },
    {
     "data": {
      "image/png": "[encoded data removed]",
      "text/plain": [
       "<Figure size 432x288 with 1 Axes>"
      ]
     },
     "metadata": {
      "needs_background": "light"
     },
     "output_type": "display_data"
    }
   ],
   "source": [
    "df['Loan amount'].plot.kde()"
   ]
  },
  {
   "cell_type": "code",
   "execution_count": 93,
   "metadata": {},
   "outputs": [
    {
     "data": {
      "text/plain": [
       "<AxesSubplot:title={'center':'CCJs Outliers'}>"
      ]
     },
     "execution_count": 93,
     "metadata": {},
     "output_type": "execute_result"
    },
    {
     "data": {
      "image/png": "[encoded data removed]",
      "text/plain": [
       "<Figure size 432x288 with 1 Axes>"
      ]
     },
     "metadata": {
      "needs_background": "light"
     },
     "output_type": "display_data"
    }
   ],
   "source": [
    "plt.title('CCJs Outliers')\n",
    "df.boxplot(column='CCJs')"
   ]
  },
  {
   "cell_type": "code",
   "execution_count": 94,
   "metadata": {},
   "outputs": [
    {
     "data": {
      "text/plain": [
       "<AxesSubplot:ylabel='Frequency'>"
      ]
     },
     "execution_count": 94,
     "metadata": {},
     "output_type": "execute_result"
    },
    {
     "data": {
      "image/png": "[encoded data removed]",
      "text/plain": [
       "<Figure size 432x288 with 1 Axes>"
      ]
     },
     "metadata": {
      "needs_background": "light"
     },
     "output_type": "display_data"
    }
   ],
   "source": [
    "df.CCJs.plot.hist()"
   ]
  },
  {
   "cell_type": "code",
   "execution_count": 95,
   "metadata": {},
   "outputs": [
    {
     "data": {
      "text/plain": [
       "(27, 14)"
      ]
     },
     "execution_count": 95,
     "metadata": {},
     "output_type": "execute_result"
    }
   ],
   "source": [
    "df[(df['Current debt'] == 0) & (df.Outcome == 'Defaulted')].shape"
   ]
  },
  {
   "cell_type": "code",
   "execution_count": 96,
   "metadata": {},
   "outputs": [
    {
     "data": {
      "text/plain": [
       "(0, 14)"
      ]
     },
     "execution_count": 96,
     "metadata": {},
     "output_type": "execute_result"
    }
   ],
   "source": [
    "df[(df['Employment status'] == 'Unemployed') & (df.Income == 0)].shape"
   ]
  },
  {
   "cell_type": "code",
   "execution_count": 97,
   "metadata": {},
   "outputs": [
    {
     "data": {
      "text/plain": [
       "(4, 14)"
      ]
     },
     "execution_count": 97,
     "metadata": {},
     "output_type": "execute_result"
    }
   ],
   "source": [
    "df[(df['Years at address'] >= 80)].shape"
   ]
  },
  {
   "cell_type": "code",
   "execution_count": 98,
   "metadata": {},
   "outputs": [
    {
     "data": {
      "text/plain": [
       "<AxesSubplot:title={'center':'Years at address'}, ylabel='Frequency'>"
      ]
     },
     "execution_count": 98,
     "metadata": {},
     "output_type": "execute_result"
    },
    {
     "data": {
      "image/png": "[encoded data removed]",
      "text/plain": [
       "<Figure size 432x288 with 1 Axes>"
      ]
     },
     "metadata": {
      "needs_background": "light"
     },
     "output_type": "display_data"
    }
   ],
   "source": [
    "plt.title('Years at address')\n",
    "df[df['Years at address'] < 80]['Years at address'].plot.hist()"
   ]
  },
  {
   "cell_type": "code",
   "execution_count": 99,
   "metadata": {},
   "outputs": [
    {
     "data": {
      "text/plain": [
       "<AxesSubplot:>"
      ]
     },
     "execution_count": 99,
     "metadata": {},
     "output_type": "execute_result"
    },
    {
     "data": {
      "image/png": "[encoded data removed]",
      "text/plain": [
       "<Figure size 432x288 with 1 Axes>"
      ]
     },
     "metadata": {
      "needs_background": "light"
     },
     "output_type": "display_data"
    }
   ],
   "source": [
    "df.boxplot('Years at address')"
   ]
  },
  {
   "cell_type": "code",
   "execution_count": 100,
   "metadata": {},
   "outputs": [
    {
     "data": {
      "text/plain": [
       "<AxesSubplot:title={'center':'Years at address'}, ylabel='Frequency'>"
      ]
     },
     "execution_count": 100,
     "metadata": {},
     "output_type": "execute_result"
    },
    {
     "data": {
      "image/png": "[encoded data removed]",
      "text/plain": [
       "<Figure size 432x288 with 1 Axes>"
      ]
     },
     "metadata": {
      "needs_background": "light"
     },
     "output_type": "display_data"
    }
   ],
   "source": [
    "plt.title('Years at address')\n",
    "df['Years at address'].plot.hist()"
   ]
  },
  {
   "cell_type": "code",
   "execution_count": 101,
   "metadata": {},
   "outputs": [
    {
     "data": {
      "text/plain": [
       "<AxesSubplot:ylabel='Frequency'>"
      ]
     },
     "execution_count": 101,
     "metadata": {},
     "output_type": "execute_result"
    },
    {
     "data": {
      "image/png": "[encoded data removed]",
      "text/plain": [
       "<Figure size 432x288 with 1 Axes>"
      ]
     },
     "metadata": {
      "needs_background": "light"
     },
     "output_type": "display_data"
    }
   ],
   "source": [
    "df[(df['Current debt'] == 0) & (df.Outcome == 'Defaulted')]['Current debt'].plot.hist()"
   ]
  },
  {
   "cell_type": "code",
   "execution_count": 102,
   "metadata": {},
   "outputs": [
    {
     "data": {
      "text/plain": [
       "<AxesSubplot:ylabel='Frequency'>"
      ]
     },
     "execution_count": 102,
     "metadata": {},
     "output_type": "execute_result"
    },
    {
     "data": {
      "image/png": "[encoded data removed]",
      "text/plain": [
       "<Figure size 432x288 with 1 Axes>"
      ]
     },
     "metadata": {
      "needs_background": "light"
     },
     "output_type": "display_data"
    }
   ],
   "source": [
    "df['Current debt'].plot.hist()"
   ]
  },
  {
   "cell_type": "code",
   "execution_count": 103,
   "metadata": {},
   "outputs": [
    {
     "data": {
      "text/plain": [
       "999       0\n",
       "1064      0\n",
       "1063      0\n",
       "1061      0\n",
       "1060      0\n",
       "       ... \n",
       "112       3\n",
       "984       3\n",
       "290       3\n",
       "928      10\n",
       "1670    100\n",
       "Name: CCJs, Length: 2000, dtype: int64"
      ]
     },
     "execution_count": 103,
     "metadata": {},
     "output_type": "execute_result"
    }
   ],
   "source": [
    "df.CCJs.sort_values()"
   ]
  },
  {
   "cell_type": "code",
   "execution_count": 104,
   "metadata": {},
   "outputs": [
    {
     "data": {
      "text/plain": [
       "<AxesSubplot:ylabel='Frequency'>"
      ]
     },
     "execution_count": 104,
     "metadata": {},
     "output_type": "execute_result"
    },
    {
     "data": {
      "image/png": "[encoded data removed]",
      "text/plain": [
       "<Figure size 432x288 with 1 Axes>"
      ]
     },
     "metadata": {
      "needs_background": "light"
     },
     "output_type": "display_data"
    }
   ],
   "source": [
    "df[df.CCJs < 4].CCJs.plot.hist(bins=[0, 1, 2, 3])"
   ]
  },
  {
   "cell_type": "code",
   "execution_count": 105,
   "metadata": {},
   "outputs": [
    {
     "data": {
      "text/plain": [
       "<AxesSubplot:>"
      ]
     },
     "execution_count": 105,
     "metadata": {},
     "output_type": "execute_result"
    },
    {
     "data": {
      "image/png": "[encoded data removed]",
      "text/plain": [
       "<Figure size 432x288 with 1 Axes>"
      ]
     },
     "metadata": {
      "needs_background": "light"
     },
     "output_type": "display_data"
    }
   ],
   "source": [
    "df.boxplot(column='Income')"
   ]
  },
  {
   "cell_type": "code",
   "execution_count": 106,
   "metadata": {},
   "outputs": [
    {
     "data": {
      "text/plain": [
       "(2000, 14)"
      ]
     },
     "execution_count": 106,
     "metadata": {},
     "output_type": "execute_result"
    }
   ],
   "source": [
    "df.shape"
   ]
  },
  {
   "cell_type": "markdown",
   "metadata": {},
   "source": [
    "## Data Preparation\n",
    "\n",
    "Remove outliers, errors and select independent variables"
   ]
  },
  {
   "cell_type": "code",
   "execution_count": 107,
   "metadata": {},
   "outputs": [
    {
     "data": {
      "text/html": [
       "<div>\n",
       "<style scoped>\n",
       "    .dataframe tbody tr th:only-of-type {\n",
       "        vertical-align: middle;\n",
       "    }\n",
       "\n",
       "    .dataframe tbody tr th {\n",
       "        vertical-align: top;\n",
       "    }\n",
       "\n",
       "    .dataframe thead th {\n",
       "        text-align: right;\n",
       "    }\n",
       "</style>\n",
       "<table border=\"1\" class=\"dataframe\">\n",
       "  <thead>\n",
       "    <tr style=\"text-align: right;\">\n",
       "      <th></th>\n",
       "      <th>Years at address</th>\n",
       "      <th>Employment status</th>\n",
       "      <th>Current debt</th>\n",
       "      <th>Income</th>\n",
       "      <th>Own home</th>\n",
       "      <th>CCJs</th>\n",
       "      <th>Loan amount</th>\n",
       "    </tr>\n",
       "  </thead>\n",
       "  <tbody>\n",
       "    <tr>\n",
       "      <th>1660</th>\n",
       "      <td>7</td>\n",
       "      <td>Self Employed</td>\n",
       "      <td>170</td>\n",
       "      <td>44000</td>\n",
       "      <td>Own</td>\n",
       "      <td>2</td>\n",
       "      <td>23306</td>\n",
       "    </tr>\n",
       "    <tr>\n",
       "      <th>293</th>\n",
       "      <td>13</td>\n",
       "      <td>Self Employed</td>\n",
       "      <td>3400</td>\n",
       "      <td>43000</td>\n",
       "      <td>Mortgage</td>\n",
       "      <td>2</td>\n",
       "      <td>8763</td>\n",
       "    </tr>\n",
       "    <tr>\n",
       "      <th>249</th>\n",
       "      <td>10</td>\n",
       "      <td>Self Employed</td>\n",
       "      <td>6090</td>\n",
       "      <td>14000</td>\n",
       "      <td>Own</td>\n",
       "      <td>0</td>\n",
       "      <td>4880</td>\n",
       "    </tr>\n",
       "    <tr>\n",
       "      <th>1363</th>\n",
       "      <td>9</td>\n",
       "      <td>Employed</td>\n",
       "      <td>130</td>\n",
       "      <td>25000</td>\n",
       "      <td>Mortgage</td>\n",
       "      <td>1</td>\n",
       "      <td>10269</td>\n",
       "    </tr>\n",
       "    <tr>\n",
       "      <th>1286</th>\n",
       "      <td>26</td>\n",
       "      <td>Self Employed</td>\n",
       "      <td>10</td>\n",
       "      <td>41500</td>\n",
       "      <td>Own</td>\n",
       "      <td>1</td>\n",
       "      <td>26530</td>\n",
       "    </tr>\n",
       "  </tbody>\n",
       "</table>\n",
       "</div>"
      ],
      "text/plain": [
       "      Years at address Employment status  Current debt  Income  Own home  \\\n",
       "1660                 7     Self Employed           170   44000       Own   \n",
       "293                 13     Self Employed          3400   43000  Mortgage   \n",
       "249                 10     Self Employed          6090   14000       Own   \n",
       "1363                 9          Employed           130   25000  Mortgage   \n",
       "1286                26     Self Employed            10   41500       Own   \n",
       "\n",
       "      CCJs  Loan amount  \n",
       "1660     2        23306  \n",
       "293      2         8763  \n",
       "249      0         4880  \n",
       "1363     1        10269  \n",
       "1286     1        26530  "
      ]
     },
     "execution_count": 107,
     "metadata": {},
     "output_type": "execute_result"
    }
   ],
   "source": [
    "X = ['Years at address', 'Employment status', 'Current debt', 'Income', 'Own home', 'CCJs', 'Loan amount']\n",
    "y = 'Outcome'\n",
    "\n",
    "#Separate data before doing anything else\n",
    "X_train, X_test, y_train, y_test = train_test_split(df[X], df[y], test_size=.20)\n",
    "X_train.head()"
   ]
  },
  {
   "cell_type": "code",
   "execution_count": 108,
   "metadata": {},
   "outputs": [],
   "source": [
    "#Remove Age at address outliers\n",
    "y_train = y_train.drop(X_train[X_train['Years at address'] > 80].index)\n",
    "X_train = X_train.drop(X_train[X_train['Years at address'] > 80].index)"
   ]
  },
  {
   "cell_type": "code",
   "execution_count": 109,
   "metadata": {},
   "outputs": [
    {
     "data": {
      "text/plain": [
       "<AxesSubplot:>"
      ]
     },
     "execution_count": 109,
     "metadata": {},
     "output_type": "execute_result"
    },
    {
     "data": {
      "image/png": "[encoded data removed]",
      "text/plain": [
       "<Figure size 432x288 with 1 Axes>"
      ]
     },
     "metadata": {
      "needs_background": "light"
     },
     "output_type": "display_data"
    }
   ],
   "source": [
    "X_train.boxplot(column='CCJs')"
   ]
  },
  {
   "cell_type": "code",
   "execution_count": 110,
   "metadata": {},
   "outputs": [
    {
     "data": {
      "text/plain": [
       "<AxesSubplot:>"
      ]
     },
     "execution_count": 110,
     "metadata": {},
     "output_type": "execute_result"
    },
    {
     "data": {
      "image/png": "[encoded data removed]",
      "text/plain": [
       "<Figure size 432x288 with 1 Axes>"
      ]
     },
     "metadata": {
      "needs_background": "light"
     },
     "output_type": "display_data"
    }
   ],
   "source": [
    "#Remove CCJs outliers\n",
    "y_train = y_train.drop(X_train[X_train.CCJs > 3].index)\n",
    "X_train = X_train.drop(X_train[X_train.CCJs > 3].index)\n",
    "X_train.boxplot(column='CCJs')"
   ]
  },
  {
   "cell_type": "code",
   "execution_count": 111,
   "metadata": {},
   "outputs": [
    {
     "data": {
      "text/plain": [
       "<AxesSubplot:>"
      ]
     },
     "execution_count": 111,
     "metadata": {},
     "output_type": "execute_result"
    },
    {
     "data": {
      "image/png": "[encoded data removed]",
      "text/plain": [
       "<Figure size 432x288 with 1 Axes>"
      ]
     },
     "metadata": {
      "needs_background": "light"
     },
     "output_type": "display_data"
    }
   ],
   "source": [
    "X_train.boxplot(column='Income')"
   ]
  },
  {
   "cell_type": "code",
   "execution_count": 112,
   "metadata": {},
   "outputs": [
    {
     "data": {
      "text/plain": [
       "<AxesSubplot:>"
      ]
     },
     "execution_count": 112,
     "metadata": {},
     "output_type": "execute_result"
    },
    {
     "data": {
      "image/png": "[encoded data removed]",
      "text/plain": [
       "<Figure size 432x288 with 1 Axes>"
      ]
     },
     "metadata": {
      "needs_background": "light"
     },
     "output_type": "display_data"
    }
   ],
   "source": [
    "y_train = y_train.drop(X_train[X_train.Income > 55000].index)\n",
    "X_train = X_train.drop(X_train[X_train.Income > 55000].index)\n",
    "\n",
    "X_train.boxplot(column='Income')"
   ]
  },
  {
   "cell_type": "code",
   "execution_count": 113,
   "metadata": {},
   "outputs": [
    {
     "data": {
      "text/html": [
       "<div>\n",
       "<style scoped>\n",
       "    .dataframe tbody tr th:only-of-type {\n",
       "        vertical-align: middle;\n",
       "    }\n",
       "\n",
       "    .dataframe tbody tr th {\n",
       "        vertical-align: top;\n",
       "    }\n",
       "\n",
       "    .dataframe thead th {\n",
       "        text-align: right;\n",
       "    }\n",
       "</style>\n",
       "<table border=\"1\" class=\"dataframe\">\n",
       "  <thead>\n",
       "    <tr style=\"text-align: right;\">\n",
       "      <th></th>\n",
       "      <th>Years at address</th>\n",
       "      <th>Employment status</th>\n",
       "      <th>Current debt</th>\n",
       "      <th>Income</th>\n",
       "      <th>Own home</th>\n",
       "      <th>CCJs</th>\n",
       "      <th>Loan amount</th>\n",
       "      <th>Employed</th>\n",
       "      <th>Retired</th>\n",
       "      <th>Self Employed</th>\n",
       "      <th>Unemployed</th>\n",
       "      <th>Mortgage</th>\n",
       "      <th>Own</th>\n",
       "      <th>Rent</th>\n",
       "    </tr>\n",
       "  </thead>\n",
       "  <tbody>\n",
       "    <tr>\n",
       "      <th>1660</th>\n",
       "      <td>7</td>\n",
       "      <td>Self Employed</td>\n",
       "      <td>170</td>\n",
       "      <td>44000</td>\n",
       "      <td>Own</td>\n",
       "      <td>2</td>\n",
       "      <td>23306</td>\n",
       "      <td>0</td>\n",
       "      <td>0</td>\n",
       "      <td>1</td>\n",
       "      <td>0</td>\n",
       "      <td>0</td>\n",
       "      <td>1</td>\n",
       "      <td>0</td>\n",
       "    </tr>\n",
       "    <tr>\n",
       "      <th>293</th>\n",
       "      <td>13</td>\n",
       "      <td>Self Employed</td>\n",
       "      <td>3400</td>\n",
       "      <td>43000</td>\n",
       "      <td>Mortgage</td>\n",
       "      <td>2</td>\n",
       "      <td>8763</td>\n",
       "      <td>0</td>\n",
       "      <td>0</td>\n",
       "      <td>1</td>\n",
       "      <td>0</td>\n",
       "      <td>1</td>\n",
       "      <td>0</td>\n",
       "      <td>0</td>\n",
       "    </tr>\n",
       "    <tr>\n",
       "      <th>249</th>\n",
       "      <td>10</td>\n",
       "      <td>Self Employed</td>\n",
       "      <td>6090</td>\n",
       "      <td>14000</td>\n",
       "      <td>Own</td>\n",
       "      <td>0</td>\n",
       "      <td>4880</td>\n",
       "      <td>0</td>\n",
       "      <td>0</td>\n",
       "      <td>1</td>\n",
       "      <td>0</td>\n",
       "      <td>0</td>\n",
       "      <td>1</td>\n",
       "      <td>0</td>\n",
       "    </tr>\n",
       "    <tr>\n",
       "      <th>1363</th>\n",
       "      <td>9</td>\n",
       "      <td>Employed</td>\n",
       "      <td>130</td>\n",
       "      <td>25000</td>\n",
       "      <td>Mortgage</td>\n",
       "      <td>1</td>\n",
       "      <td>10269</td>\n",
       "      <td>1</td>\n",
       "      <td>0</td>\n",
       "      <td>0</td>\n",
       "      <td>0</td>\n",
       "      <td>1</td>\n",
       "      <td>0</td>\n",
       "      <td>0</td>\n",
       "    </tr>\n",
       "    <tr>\n",
       "      <th>1286</th>\n",
       "      <td>26</td>\n",
       "      <td>Self Employed</td>\n",
       "      <td>10</td>\n",
       "      <td>41500</td>\n",
       "      <td>Own</td>\n",
       "      <td>1</td>\n",
       "      <td>26530</td>\n",
       "      <td>0</td>\n",
       "      <td>0</td>\n",
       "      <td>1</td>\n",
       "      <td>0</td>\n",
       "      <td>0</td>\n",
       "      <td>1</td>\n",
       "      <td>0</td>\n",
       "    </tr>\n",
       "  </tbody>\n",
       "</table>\n",
       "</div>"
      ],
      "text/plain": [
       "      Years at address Employment status  Current debt  Income  Own home  \\\n",
       "1660                 7     Self Employed           170   44000       Own   \n",
       "293                 13     Self Employed          3400   43000  Mortgage   \n",
       "249                 10     Self Employed          6090   14000       Own   \n",
       "1363                 9          Employed           130   25000  Mortgage   \n",
       "1286                26     Self Employed            10   41500       Own   \n",
       "\n",
       "      CCJs  Loan amount  Employed  Retired  Self Employed  Unemployed  \\\n",
       "1660     2        23306         0        0              1           0   \n",
       "293      2         8763         0        0              1           0   \n",
       "249      0         4880         0        0              1           0   \n",
       "1363     1        10269         1        0              0           0   \n",
       "1286     1        26530         0        0              1           0   \n",
       "\n",
       "      Mortgage  Own  Rent  \n",
       "1660         0    1     0  \n",
       "293          1    0     0  \n",
       "249          0    1     0  \n",
       "1363         1    0     0  \n",
       "1286         0    1     0  "
      ]
     },
     "execution_count": 113,
     "metadata": {},
     "output_type": "execute_result"
    }
   ],
   "source": [
    "#One hot encode categorical values\n",
    "dummies_ES = pd.get_dummies(X_train['Employment status'])\n",
    "X_train = X_train.join(dummies_ES)\n",
    "\n",
    "dummies_OH = pd.get_dummies(X_train['Own home'])\n",
    "X_train = X_train.join(dummies_OH)\n",
    "\n",
    "X_train.head()"
   ]
  },
  {
   "cell_type": "code",
   "execution_count": 114,
   "metadata": {},
   "outputs": [
    {
     "data": {
      "text/html": [
       "<div>\n",
       "<style scoped>\n",
       "    .dataframe tbody tr th:only-of-type {\n",
       "        vertical-align: middle;\n",
       "    }\n",
       "\n",
       "    .dataframe tbody tr th {\n",
       "        vertical-align: top;\n",
       "    }\n",
       "\n",
       "    .dataframe thead th {\n",
       "        text-align: right;\n",
       "    }\n",
       "</style>\n",
       "<table border=\"1\" class=\"dataframe\">\n",
       "  <thead>\n",
       "    <tr style=\"text-align: right;\">\n",
       "      <th></th>\n",
       "      <th>Years at address</th>\n",
       "      <th>Employment status</th>\n",
       "      <th>Current debt</th>\n",
       "      <th>Income</th>\n",
       "      <th>Own home</th>\n",
       "      <th>CCJs</th>\n",
       "      <th>Loan amount</th>\n",
       "      <th>Employed</th>\n",
       "      <th>Retired</th>\n",
       "      <th>Self Employed</th>\n",
       "      <th>Unemployed</th>\n",
       "      <th>Mortgage</th>\n",
       "      <th>Own</th>\n",
       "      <th>Rent</th>\n",
       "    </tr>\n",
       "  </thead>\n",
       "  <tbody>\n",
       "    <tr>\n",
       "      <th>1660</th>\n",
       "      <td>-0.688467</td>\n",
       "      <td>Self Employed</td>\n",
       "      <td>-1.067997</td>\n",
       "      <td>0.480957</td>\n",
       "      <td>Own</td>\n",
       "      <td>0.945830</td>\n",
       "      <td>0.336818</td>\n",
       "      <td>0</td>\n",
       "      <td>0</td>\n",
       "      <td>1</td>\n",
       "      <td>0</td>\n",
       "      <td>0</td>\n",
       "      <td>1</td>\n",
       "      <td>0</td>\n",
       "    </tr>\n",
       "    <tr>\n",
       "      <th>293</th>\n",
       "      <td>-0.308974</td>\n",
       "      <td>Self Employed</td>\n",
       "      <td>0.015158</td>\n",
       "      <td>0.394838</td>\n",
       "      <td>Mortgage</td>\n",
       "      <td>0.945830</td>\n",
       "      <td>-0.805912</td>\n",
       "      <td>0</td>\n",
       "      <td>0</td>\n",
       "      <td>1</td>\n",
       "      <td>0</td>\n",
       "      <td>1</td>\n",
       "      <td>0</td>\n",
       "      <td>0</td>\n",
       "    </tr>\n",
       "    <tr>\n",
       "      <th>249</th>\n",
       "      <td>-0.498721</td>\n",
       "      <td>Self Employed</td>\n",
       "      <td>0.917228</td>\n",
       "      <td>-2.102613</td>\n",
       "      <td>Own</td>\n",
       "      <td>-0.917736</td>\n",
       "      <td>-1.111022</td>\n",
       "      <td>0</td>\n",
       "      <td>0</td>\n",
       "      <td>1</td>\n",
       "      <td>0</td>\n",
       "      <td>0</td>\n",
       "      <td>1</td>\n",
       "      <td>0</td>\n",
       "    </tr>\n",
       "    <tr>\n",
       "      <th>1363</th>\n",
       "      <td>-0.561970</td>\n",
       "      <td>Employed</td>\n",
       "      <td>-1.081411</td>\n",
       "      <td>-1.155304</td>\n",
       "      <td>Mortgage</td>\n",
       "      <td>0.014047</td>\n",
       "      <td>-0.687576</td>\n",
       "      <td>1</td>\n",
       "      <td>0</td>\n",
       "      <td>0</td>\n",
       "      <td>0</td>\n",
       "      <td>1</td>\n",
       "      <td>0</td>\n",
       "      <td>0</td>\n",
       "    </tr>\n",
       "    <tr>\n",
       "      <th>1286</th>\n",
       "      <td>0.513262</td>\n",
       "      <td>Self Employed</td>\n",
       "      <td>-1.121652</td>\n",
       "      <td>0.265660</td>\n",
       "      <td>Own</td>\n",
       "      <td>0.014047</td>\n",
       "      <td>0.590147</td>\n",
       "      <td>0</td>\n",
       "      <td>0</td>\n",
       "      <td>1</td>\n",
       "      <td>0</td>\n",
       "      <td>0</td>\n",
       "      <td>1</td>\n",
       "      <td>0</td>\n",
       "    </tr>\n",
       "  </tbody>\n",
       "</table>\n",
       "</div>"
      ],
      "text/plain": [
       "      Years at address Employment status  Current debt    Income  Own home  \\\n",
       "1660         -0.688467     Self Employed     -1.067997  0.480957       Own   \n",
       "293          -0.308974     Self Employed      0.015158  0.394838  Mortgage   \n",
       "249          -0.498721     Self Employed      0.917228 -2.102613       Own   \n",
       "1363         -0.561970          Employed     -1.081411 -1.155304  Mortgage   \n",
       "1286          0.513262     Self Employed     -1.121652  0.265660       Own   \n",
       "\n",
       "          CCJs  Loan amount  Employed  Retired  Self Employed  Unemployed  \\\n",
       "1660  0.945830     0.336818         0        0              1           0   \n",
       "293   0.945830    -0.805912         0        0              1           0   \n",
       "249  -0.917736    -1.111022         0        0              1           0   \n",
       "1363  0.014047    -0.687576         1        0              0           0   \n",
       "1286  0.014047     0.590147         0        0              1           0   \n",
       "\n",
       "      Mortgage  Own  Rent  \n",
       "1660         0    1     0  \n",
       "293          1    0     0  \n",
       "249          0    1     0  \n",
       "1363         1    0     0  \n",
       "1286         0    1     0  "
      ]
     },
     "execution_count": 114,
     "metadata": {},
     "output_type": "execute_result"
    }
   ],
   "source": [
    "#Scaling numerical values\n",
    "columns_to_standardize = ['Years at address', 'Current debt', 'Income', 'CCJs', 'Loan amount']\n",
    "scaler = StandardScaler().fit(X_train[columns_to_standardize])\n",
    "X_scaled = scaler.transform(X_train[columns_to_standardize])\n",
    "\n",
    "X_train[columns_to_standardize] = X_scaled\n",
    "X_train.head()"
   ]
  },
  {
   "cell_type": "code",
   "execution_count": 115,
   "metadata": {},
   "outputs": [
    {
     "data": {
      "text/html": [
       "<div>\n",
       "<style scoped>\n",
       "    .dataframe tbody tr th:only-of-type {\n",
       "        vertical-align: middle;\n",
       "    }\n",
       "\n",
       "    .dataframe tbody tr th {\n",
       "        vertical-align: top;\n",
       "    }\n",
       "\n",
       "    .dataframe thead th {\n",
       "        text-align: right;\n",
       "    }\n",
       "</style>\n",
       "<table border=\"1\" class=\"dataframe\">\n",
       "  <thead>\n",
       "    <tr style=\"text-align: right;\">\n",
       "      <th></th>\n",
       "      <th>Years at address</th>\n",
       "      <th>Current debt</th>\n",
       "      <th>Income</th>\n",
       "      <th>CCJs</th>\n",
       "      <th>Loan amount</th>\n",
       "      <th>Employed</th>\n",
       "      <th>Retired</th>\n",
       "      <th>Self Employed</th>\n",
       "      <th>Unemployed</th>\n",
       "      <th>Mortgage</th>\n",
       "      <th>Own</th>\n",
       "      <th>Rent</th>\n",
       "    </tr>\n",
       "  </thead>\n",
       "  <tbody>\n",
       "    <tr>\n",
       "      <th>1660</th>\n",
       "      <td>-0.688467</td>\n",
       "      <td>-1.067997</td>\n",
       "      <td>0.480957</td>\n",
       "      <td>0.945830</td>\n",
       "      <td>0.336818</td>\n",
       "      <td>0</td>\n",
       "      <td>0</td>\n",
       "      <td>1</td>\n",
       "      <td>0</td>\n",
       "      <td>0</td>\n",
       "      <td>1</td>\n",
       "      <td>0</td>\n",
       "    </tr>\n",
       "    <tr>\n",
       "      <th>293</th>\n",
       "      <td>-0.308974</td>\n",
       "      <td>0.015158</td>\n",
       "      <td>0.394838</td>\n",
       "      <td>0.945830</td>\n",
       "      <td>-0.805912</td>\n",
       "      <td>0</td>\n",
       "      <td>0</td>\n",
       "      <td>1</td>\n",
       "      <td>0</td>\n",
       "      <td>1</td>\n",
       "      <td>0</td>\n",
       "      <td>0</td>\n",
       "    </tr>\n",
       "    <tr>\n",
       "      <th>249</th>\n",
       "      <td>-0.498721</td>\n",
       "      <td>0.917228</td>\n",
       "      <td>-2.102613</td>\n",
       "      <td>-0.917736</td>\n",
       "      <td>-1.111022</td>\n",
       "      <td>0</td>\n",
       "      <td>0</td>\n",
       "      <td>1</td>\n",
       "      <td>0</td>\n",
       "      <td>0</td>\n",
       "      <td>1</td>\n",
       "      <td>0</td>\n",
       "    </tr>\n",
       "    <tr>\n",
       "      <th>1363</th>\n",
       "      <td>-0.561970</td>\n",
       "      <td>-1.081411</td>\n",
       "      <td>-1.155304</td>\n",
       "      <td>0.014047</td>\n",
       "      <td>-0.687576</td>\n",
       "      <td>1</td>\n",
       "      <td>0</td>\n",
       "      <td>0</td>\n",
       "      <td>0</td>\n",
       "      <td>1</td>\n",
       "      <td>0</td>\n",
       "      <td>0</td>\n",
       "    </tr>\n",
       "    <tr>\n",
       "      <th>1286</th>\n",
       "      <td>0.513262</td>\n",
       "      <td>-1.121652</td>\n",
       "      <td>0.265660</td>\n",
       "      <td>0.014047</td>\n",
       "      <td>0.590147</td>\n",
       "      <td>0</td>\n",
       "      <td>0</td>\n",
       "      <td>1</td>\n",
       "      <td>0</td>\n",
       "      <td>0</td>\n",
       "      <td>1</td>\n",
       "      <td>0</td>\n",
       "    </tr>\n",
       "  </tbody>\n",
       "</table>\n",
       "</div>"
      ],
      "text/plain": [
       "      Years at address  Current debt    Income      CCJs  Loan amount  \\\n",
       "1660         -0.688467     -1.067997  0.480957  0.945830     0.336818   \n",
       "293          -0.308974      0.015158  0.394838  0.945830    -0.805912   \n",
       "249          -0.498721      0.917228 -2.102613 -0.917736    -1.111022   \n",
       "1363         -0.561970     -1.081411 -1.155304  0.014047    -0.687576   \n",
       "1286          0.513262     -1.121652  0.265660  0.014047     0.590147   \n",
       "\n",
       "      Employed  Retired  Self Employed  Unemployed  Mortgage  Own  Rent  \n",
       "1660         0        0              1           0         0    1     0  \n",
       "293          0        0              1           0         1    0     0  \n",
       "249          0        0              1           0         0    1     0  \n",
       "1363         1        0              0           0         1    0     0  \n",
       "1286         0        0              1           0         0    1     0  "
      ]
     },
     "execution_count": 115,
     "metadata": {},
     "output_type": "execute_result"
    }
   ],
   "source": [
    "X_scaled_train = X_train.drop(['Own home', 'Employment status'], axis=1)\n",
    "\n",
    "X_scaled_train.head()"
   ]
  },
  {
   "cell_type": "code",
   "execution_count": 119,
   "metadata": {},
   "outputs": [
    {
     "data": {
      "text/plain": [
       "<AxesSubplot:ylabel='Frequency'>"
      ]
     },
     "execution_count": 119,
     "metadata": {},
     "output_type": "execute_result"
    },
    {
     "data": {
      "image/png": "[encoded data removed]",
      "text/plain": [
       "<Figure size 432x288 with 1 Axes>"
      ]
     },
     "metadata": {
      "needs_background": "light"
     },
     "output_type": "display_data"
    }
   ],
   "source": [
    "X_scaled_train['Loan amount'].plot.hist()"
   ]
  },
  {
   "cell_type": "markdown",
   "metadata": {},
   "source": [
    "## Logistic Regression"
   ]
  },
  {
   "cell_type": "code",
   "execution_count": 120,
   "metadata": {},
   "outputs": [
    {
     "name": "stdout",
     "output_type": "stream",
     "text": [
      "Best parameters set found on development set:\n",
      "\n",
      "{'C': 0.2, 'penalty': 'l1', 'solver': 'liblinear'}\n"
     ]
    },
    {
     "data": {
      "text/html": [
       "<div>\n",
       "<style scoped>\n",
       "    .dataframe tbody tr th:only-of-type {\n",
       "        vertical-align: middle;\n",
       "    }\n",
       "\n",
       "    .dataframe tbody tr th {\n",
       "        vertical-align: top;\n",
       "    }\n",
       "\n",
       "    .dataframe thead th {\n",
       "        text-align: right;\n",
       "    }\n",
       "</style>\n",
       "<table border=\"1\" class=\"dataframe\">\n",
       "  <thead>\n",
       "    <tr style=\"text-align: right;\">\n",
       "      <th></th>\n",
       "      <th>C</th>\n",
       "      <th>penalty</th>\n",
       "      <th>solver</th>\n",
       "      <th>Accuracy</th>\n",
       "    </tr>\n",
       "  </thead>\n",
       "  <tbody>\n",
       "    <tr>\n",
       "      <th>0</th>\n",
       "      <td>0.001</td>\n",
       "      <td>l2</td>\n",
       "      <td>lbfgs</td>\n",
       "      <td>0.667087</td>\n",
       "    </tr>\n",
       "    <tr>\n",
       "      <th>1</th>\n",
       "      <td>0.010</td>\n",
       "      <td>l2</td>\n",
       "      <td>lbfgs</td>\n",
       "      <td>0.715432</td>\n",
       "    </tr>\n",
       "    <tr>\n",
       "      <th>2</th>\n",
       "      <td>0.050</td>\n",
       "      <td>l2</td>\n",
       "      <td>lbfgs</td>\n",
       "      <td>0.716690</td>\n",
       "    </tr>\n",
       "    <tr>\n",
       "      <th>3</th>\n",
       "      <td>0.075</td>\n",
       "      <td>l2</td>\n",
       "      <td>lbfgs</td>\n",
       "      <td>0.716694</td>\n",
       "    </tr>\n",
       "    <tr>\n",
       "      <th>4</th>\n",
       "      <td>0.090</td>\n",
       "      <td>l2</td>\n",
       "      <td>lbfgs</td>\n",
       "      <td>0.716694</td>\n",
       "    </tr>\n",
       "    <tr>\n",
       "      <th>5</th>\n",
       "      <td>0.200</td>\n",
       "      <td>l2</td>\n",
       "      <td>lbfgs</td>\n",
       "      <td>0.716065</td>\n",
       "    </tr>\n",
       "    <tr>\n",
       "      <th>6</th>\n",
       "      <td>0.600</td>\n",
       "      <td>l2</td>\n",
       "      <td>lbfgs</td>\n",
       "      <td>0.716069</td>\n",
       "    </tr>\n",
       "    <tr>\n",
       "      <th>7</th>\n",
       "      <td>1.000</td>\n",
       "      <td>l2</td>\n",
       "      <td>lbfgs</td>\n",
       "      <td>0.716069</td>\n",
       "    </tr>\n",
       "    <tr>\n",
       "      <th>8</th>\n",
       "      <td>5.000</td>\n",
       "      <td>l2</td>\n",
       "      <td>lbfgs</td>\n",
       "      <td>0.716694</td>\n",
       "    </tr>\n",
       "    <tr>\n",
       "      <th>9</th>\n",
       "      <td>0.001</td>\n",
       "      <td>l1</td>\n",
       "      <td>liblinear</td>\n",
       "      <td>0.436557</td>\n",
       "    </tr>\n",
       "    <tr>\n",
       "      <th>10</th>\n",
       "      <td>0.010</td>\n",
       "      <td>l1</td>\n",
       "      <td>liblinear</td>\n",
       "      <td>0.705405</td>\n",
       "    </tr>\n",
       "    <tr>\n",
       "      <th>11</th>\n",
       "      <td>0.050</td>\n",
       "      <td>l1</td>\n",
       "      <td>liblinear</td>\n",
       "      <td>0.717323</td>\n",
       "    </tr>\n",
       "    <tr>\n",
       "      <th>12</th>\n",
       "      <td>0.075</td>\n",
       "      <td>l1</td>\n",
       "      <td>liblinear</td>\n",
       "      <td>0.715432</td>\n",
       "    </tr>\n",
       "    <tr>\n",
       "      <th>13</th>\n",
       "      <td>0.090</td>\n",
       "      <td>l1</td>\n",
       "      <td>liblinear</td>\n",
       "      <td>0.717948</td>\n",
       "    </tr>\n",
       "    <tr>\n",
       "      <th>14</th>\n",
       "      <td>0.200</td>\n",
       "      <td>l1</td>\n",
       "      <td>liblinear</td>\n",
       "      <td>0.719198</td>\n",
       "    </tr>\n",
       "    <tr>\n",
       "      <th>15</th>\n",
       "      <td>0.600</td>\n",
       "      <td>l1</td>\n",
       "      <td>liblinear</td>\n",
       "      <td>0.716694</td>\n",
       "    </tr>\n",
       "    <tr>\n",
       "      <th>16</th>\n",
       "      <td>1.000</td>\n",
       "      <td>l1</td>\n",
       "      <td>liblinear</td>\n",
       "      <td>0.716069</td>\n",
       "    </tr>\n",
       "    <tr>\n",
       "      <th>17</th>\n",
       "      <td>5.000</td>\n",
       "      <td>l1</td>\n",
       "      <td>liblinear</td>\n",
       "      <td>0.716069</td>\n",
       "    </tr>\n",
       "  </tbody>\n",
       "</table>\n",
       "</div>"
      ],
      "text/plain": [
       "        C penalty     solver  Accuracy\n",
       "0   0.001      l2      lbfgs  0.667087\n",
       "1   0.010      l2      lbfgs  0.715432\n",
       "2   0.050      l2      lbfgs  0.716690\n",
       "3   0.075      l2      lbfgs  0.716694\n",
       "4   0.090      l2      lbfgs  0.716694\n",
       "5   0.200      l2      lbfgs  0.716065\n",
       "6   0.600      l2      lbfgs  0.716069\n",
       "7   1.000      l2      lbfgs  0.716069\n",
       "8   5.000      l2      lbfgs  0.716694\n",
       "9   0.001      l1  liblinear  0.436557\n",
       "10  0.010      l1  liblinear  0.705405\n",
       "11  0.050      l1  liblinear  0.717323\n",
       "12  0.075      l1  liblinear  0.715432\n",
       "13  0.090      l1  liblinear  0.717948\n",
       "14  0.200      l1  liblinear  0.719198\n",
       "15  0.600      l1  liblinear  0.716694\n",
       "16  1.000      l1  liblinear  0.716069\n",
       "17  5.000      l1  liblinear  0.716069"
      ]
     },
     "execution_count": 120,
     "metadata": {},
     "output_type": "execute_result"
    }
   ],
   "source": [
    "C= [0.001, 0.01, 0.05, 0.075, 0.09, 0.2, 0.6, 1, 5]\n",
    "\n",
    "tuned_parameter = [{\n",
    "        'solver': ['lbfgs'],\n",
    "        'penalty': ['l2'],\n",
    "        'C': C\n",
    "    },\n",
    "    {\n",
    "        'solver': ['liblinear'],\n",
    "        'penalty': ['l1'],\n",
    "        'C': C\n",
    "    }\n",
    "]\n",
    "\n",
    "clf = GridSearchCV(LogisticRegression(), tuned_parameter, scoring='accuracy', cv=10)\n",
    "clf.fit(X_scaled_train, y_train)\n",
    "\n",
    "print(\"Best parameters set found on development set:\")\n",
    "print()\n",
    "print(clf.best_params_)\n",
    "\n",
    "pd.concat([pd.DataFrame(clf.cv_results_[\"params\"]),pd.DataFrame(clf.cv_results_[\"mean_test_score\"], columns=[\"Accuracy\"])],axis=1)\n"
   ]
  },
  {
   "cell_type": "markdown",
   "metadata": {},
   "source": [
    "## Multi-layer Perceptron (ANN)"
   ]
  },
  {
   "cell_type": "code",
   "execution_count": 35,
   "metadata": {},
   "outputs": [
    {
     "name": "stdout",
     "output_type": "stream",
     "text": [
      "Best parameters set found on development set:\n",
      "\n",
      "{'activation': 'relu', 'alpha': 1, 'hidden_layer_sizes': (150,), 'max_iter': 2000}\n"
     ]
    },
    {
     "data": {
      "text/html": [
       "<div>\n",
       "<style scoped>\n",
       "    .dataframe tbody tr th:only-of-type {\n",
       "        vertical-align: middle;\n",
       "    }\n",
       "\n",
       "    .dataframe tbody tr th {\n",
       "        vertical-align: top;\n",
       "    }\n",
       "\n",
       "    .dataframe thead th {\n",
       "        text-align: right;\n",
       "    }\n",
       "</style>\n",
       "<table border=\"1\" class=\"dataframe\">\n",
       "  <thead>\n",
       "    <tr style=\"text-align: right;\">\n",
       "      <th></th>\n",
       "      <th>activation</th>\n",
       "      <th>alpha</th>\n",
       "      <th>hidden_layer_sizes</th>\n",
       "      <th>max_iter</th>\n",
       "      <th>Accuracy</th>\n",
       "    </tr>\n",
       "  </thead>\n",
       "  <tbody>\n",
       "    <tr>\n",
       "      <th>0</th>\n",
       "      <td>logistic</td>\n",
       "      <td>0.0001</td>\n",
       "      <td>(60,)</td>\n",
       "      <td>2000</td>\n",
       "      <td>0.725193</td>\n",
       "    </tr>\n",
       "    <tr>\n",
       "      <th>1</th>\n",
       "      <td>logistic</td>\n",
       "      <td>0.0001</td>\n",
       "      <td>(100,)</td>\n",
       "      <td>2000</td>\n",
       "      <td>0.729583</td>\n",
       "    </tr>\n",
       "    <tr>\n",
       "      <th>2</th>\n",
       "      <td>logistic</td>\n",
       "      <td>0.0001</td>\n",
       "      <td>(120,)</td>\n",
       "      <td>2000</td>\n",
       "      <td>0.728329</td>\n",
       "    </tr>\n",
       "    <tr>\n",
       "      <th>3</th>\n",
       "      <td>logistic</td>\n",
       "      <td>0.0001</td>\n",
       "      <td>(150,)</td>\n",
       "      <td>2000</td>\n",
       "      <td>0.724568</td>\n",
       "    </tr>\n",
       "    <tr>\n",
       "      <th>4</th>\n",
       "      <td>logistic</td>\n",
       "      <td>0.0050</td>\n",
       "      <td>(60,)</td>\n",
       "      <td>2000</td>\n",
       "      <td>0.723935</td>\n",
       "    </tr>\n",
       "    <tr>\n",
       "      <th>5</th>\n",
       "      <td>logistic</td>\n",
       "      <td>0.0050</td>\n",
       "      <td>(100,)</td>\n",
       "      <td>2000</td>\n",
       "      <td>0.727712</td>\n",
       "    </tr>\n",
       "    <tr>\n",
       "      <th>6</th>\n",
       "      <td>logistic</td>\n",
       "      <td>0.0050</td>\n",
       "      <td>(120,)</td>\n",
       "      <td>2000</td>\n",
       "      <td>0.726447</td>\n",
       "    </tr>\n",
       "    <tr>\n",
       "      <th>7</th>\n",
       "      <td>logistic</td>\n",
       "      <td>0.0050</td>\n",
       "      <td>(150,)</td>\n",
       "      <td>2000</td>\n",
       "      <td>0.727087</td>\n",
       "    </tr>\n",
       "    <tr>\n",
       "      <th>8</th>\n",
       "      <td>logistic</td>\n",
       "      <td>0.0100</td>\n",
       "      <td>(60,)</td>\n",
       "      <td>2000</td>\n",
       "      <td>0.725825</td>\n",
       "    </tr>\n",
       "    <tr>\n",
       "      <th>9</th>\n",
       "      <td>logistic</td>\n",
       "      <td>0.0100</td>\n",
       "      <td>(100,)</td>\n",
       "      <td>2000</td>\n",
       "      <td>0.723310</td>\n",
       "    </tr>\n",
       "    <tr>\n",
       "      <th>10</th>\n",
       "      <td>logistic</td>\n",
       "      <td>0.0100</td>\n",
       "      <td>(120,)</td>\n",
       "      <td>2000</td>\n",
       "      <td>0.728966</td>\n",
       "    </tr>\n",
       "    <tr>\n",
       "      <th>11</th>\n",
       "      <td>logistic</td>\n",
       "      <td>0.0100</td>\n",
       "      <td>(150,)</td>\n",
       "      <td>2000</td>\n",
       "      <td>0.729587</td>\n",
       "    </tr>\n",
       "    <tr>\n",
       "      <th>12</th>\n",
       "      <td>logistic</td>\n",
       "      <td>0.0500</td>\n",
       "      <td>(60,)</td>\n",
       "      <td>2000</td>\n",
       "      <td>0.725818</td>\n",
       "    </tr>\n",
       "    <tr>\n",
       "      <th>13</th>\n",
       "      <td>logistic</td>\n",
       "      <td>0.0500</td>\n",
       "      <td>(100,)</td>\n",
       "      <td>2000</td>\n",
       "      <td>0.728333</td>\n",
       "    </tr>\n",
       "    <tr>\n",
       "      <th>14</th>\n",
       "      <td>logistic</td>\n",
       "      <td>0.0500</td>\n",
       "      <td>(120,)</td>\n",
       "      <td>2000</td>\n",
       "      <td>0.724564</td>\n",
       "    </tr>\n",
       "    <tr>\n",
       "      <th>15</th>\n",
       "      <td>logistic</td>\n",
       "      <td>0.0500</td>\n",
       "      <td>(150,)</td>\n",
       "      <td>2000</td>\n",
       "      <td>0.727704</td>\n",
       "    </tr>\n",
       "    <tr>\n",
       "      <th>16</th>\n",
       "      <td>logistic</td>\n",
       "      <td>0.1000</td>\n",
       "      <td>(60,)</td>\n",
       "      <td>2000</td>\n",
       "      <td>0.725822</td>\n",
       "    </tr>\n",
       "    <tr>\n",
       "      <th>17</th>\n",
       "      <td>logistic</td>\n",
       "      <td>0.1000</td>\n",
       "      <td>(100,)</td>\n",
       "      <td>2000</td>\n",
       "      <td>0.725822</td>\n",
       "    </tr>\n",
       "    <tr>\n",
       "      <th>18</th>\n",
       "      <td>logistic</td>\n",
       "      <td>0.1000</td>\n",
       "      <td>(120,)</td>\n",
       "      <td>2000</td>\n",
       "      <td>0.727712</td>\n",
       "    </tr>\n",
       "    <tr>\n",
       "      <th>19</th>\n",
       "      <td>logistic</td>\n",
       "      <td>0.1000</td>\n",
       "      <td>(150,)</td>\n",
       "      <td>2000</td>\n",
       "      <td>0.725818</td>\n",
       "    </tr>\n",
       "    <tr>\n",
       "      <th>20</th>\n",
       "      <td>logistic</td>\n",
       "      <td>1.0000</td>\n",
       "      <td>(60,)</td>\n",
       "      <td>2000</td>\n",
       "      <td>0.725833</td>\n",
       "    </tr>\n",
       "    <tr>\n",
       "      <th>21</th>\n",
       "      <td>logistic</td>\n",
       "      <td>1.0000</td>\n",
       "      <td>(100,)</td>\n",
       "      <td>2000</td>\n",
       "      <td>0.725841</td>\n",
       "    </tr>\n",
       "    <tr>\n",
       "      <th>22</th>\n",
       "      <td>logistic</td>\n",
       "      <td>1.0000</td>\n",
       "      <td>(120,)</td>\n",
       "      <td>2000</td>\n",
       "      <td>0.724564</td>\n",
       "    </tr>\n",
       "    <tr>\n",
       "      <th>23</th>\n",
       "      <td>logistic</td>\n",
       "      <td>1.0000</td>\n",
       "      <td>(150,)</td>\n",
       "      <td>2000</td>\n",
       "      <td>0.727716</td>\n",
       "    </tr>\n",
       "    <tr>\n",
       "      <th>24</th>\n",
       "      <td>logistic</td>\n",
       "      <td>10.0000</td>\n",
       "      <td>(60,)</td>\n",
       "      <td>2000</td>\n",
       "      <td>0.553950</td>\n",
       "    </tr>\n",
       "    <tr>\n",
       "      <th>25</th>\n",
       "      <td>logistic</td>\n",
       "      <td>10.0000</td>\n",
       "      <td>(100,)</td>\n",
       "      <td>2000</td>\n",
       "      <td>0.553950</td>\n",
       "    </tr>\n",
       "    <tr>\n",
       "      <th>26</th>\n",
       "      <td>logistic</td>\n",
       "      <td>10.0000</td>\n",
       "      <td>(120,)</td>\n",
       "      <td>2000</td>\n",
       "      <td>0.553950</td>\n",
       "    </tr>\n",
       "    <tr>\n",
       "      <th>27</th>\n",
       "      <td>logistic</td>\n",
       "      <td>10.0000</td>\n",
       "      <td>(150,)</td>\n",
       "      <td>2000</td>\n",
       "      <td>0.553950</td>\n",
       "    </tr>\n",
       "    <tr>\n",
       "      <th>28</th>\n",
       "      <td>relu</td>\n",
       "      <td>0.0001</td>\n",
       "      <td>(60,)</td>\n",
       "      <td>2000</td>\n",
       "      <td>0.716466</td>\n",
       "    </tr>\n",
       "    <tr>\n",
       "      <th>29</th>\n",
       "      <td>relu</td>\n",
       "      <td>0.0001</td>\n",
       "      <td>(100,)</td>\n",
       "      <td>2000</td>\n",
       "      <td>0.700118</td>\n",
       "    </tr>\n",
       "    <tr>\n",
       "      <th>30</th>\n",
       "      <td>relu</td>\n",
       "      <td>0.0001</td>\n",
       "      <td>(120,)</td>\n",
       "      <td>2000</td>\n",
       "      <td>0.703880</td>\n",
       "    </tr>\n",
       "    <tr>\n",
       "      <th>31</th>\n",
       "      <td>relu</td>\n",
       "      <td>0.0001</td>\n",
       "      <td>(150,)</td>\n",
       "      <td>2000</td>\n",
       "      <td>0.701360</td>\n",
       "    </tr>\n",
       "    <tr>\n",
       "      <th>32</th>\n",
       "      <td>relu</td>\n",
       "      <td>0.0050</td>\n",
       "      <td>(60,)</td>\n",
       "      <td>2000</td>\n",
       "      <td>0.720798</td>\n",
       "    </tr>\n",
       "    <tr>\n",
       "      <th>33</th>\n",
       "      <td>relu</td>\n",
       "      <td>0.0050</td>\n",
       "      <td>(100,)</td>\n",
       "      <td>2000</td>\n",
       "      <td>0.717693</td>\n",
       "    </tr>\n",
       "    <tr>\n",
       "      <th>34</th>\n",
       "      <td>relu</td>\n",
       "      <td>0.0050</td>\n",
       "      <td>(120,)</td>\n",
       "      <td>2000</td>\n",
       "      <td>0.708306</td>\n",
       "    </tr>\n",
       "    <tr>\n",
       "      <th>35</th>\n",
       "      <td>relu</td>\n",
       "      <td>0.0050</td>\n",
       "      <td>(150,)</td>\n",
       "      <td>2000</td>\n",
       "      <td>0.705747</td>\n",
       "    </tr>\n",
       "    <tr>\n",
       "      <th>36</th>\n",
       "      <td>relu</td>\n",
       "      <td>0.0100</td>\n",
       "      <td>(60,)</td>\n",
       "      <td>2000</td>\n",
       "      <td>0.722095</td>\n",
       "    </tr>\n",
       "    <tr>\n",
       "      <th>37</th>\n",
       "      <td>relu</td>\n",
       "      <td>0.0100</td>\n",
       "      <td>(100,)</td>\n",
       "      <td>2000</td>\n",
       "      <td>0.722697</td>\n",
       "    </tr>\n",
       "    <tr>\n",
       "      <th>38</th>\n",
       "      <td>relu</td>\n",
       "      <td>0.0100</td>\n",
       "      <td>(120,)</td>\n",
       "      <td>2000</td>\n",
       "      <td>0.714591</td>\n",
       "    </tr>\n",
       "    <tr>\n",
       "      <th>39</th>\n",
       "      <td>relu</td>\n",
       "      <td>0.0100</td>\n",
       "      <td>(150,)</td>\n",
       "      <td>2000</td>\n",
       "      <td>0.714528</td>\n",
       "    </tr>\n",
       "    <tr>\n",
       "      <th>40</th>\n",
       "      <td>relu</td>\n",
       "      <td>0.0500</td>\n",
       "      <td>(60,)</td>\n",
       "      <td>2000</td>\n",
       "      <td>0.735853</td>\n",
       "    </tr>\n",
       "    <tr>\n",
       "      <th>41</th>\n",
       "      <td>relu</td>\n",
       "      <td>0.0500</td>\n",
       "      <td>(100,)</td>\n",
       "      <td>2000</td>\n",
       "      <td>0.729627</td>\n",
       "    </tr>\n",
       "    <tr>\n",
       "      <th>42</th>\n",
       "      <td>relu</td>\n",
       "      <td>0.0500</td>\n",
       "      <td>(120,)</td>\n",
       "      <td>2000</td>\n",
       "      <td>0.725849</td>\n",
       "    </tr>\n",
       "    <tr>\n",
       "      <th>43</th>\n",
       "      <td>relu</td>\n",
       "      <td>0.0500</td>\n",
       "      <td>(150,)</td>\n",
       "      <td>2000</td>\n",
       "      <td>0.719575</td>\n",
       "    </tr>\n",
       "    <tr>\n",
       "      <th>44</th>\n",
       "      <td>relu</td>\n",
       "      <td>0.1000</td>\n",
       "      <td>(60,)</td>\n",
       "      <td>2000</td>\n",
       "      <td>0.748447</td>\n",
       "    </tr>\n",
       "    <tr>\n",
       "      <th>45</th>\n",
       "      <td>relu</td>\n",
       "      <td>0.1000</td>\n",
       "      <td>(100,)</td>\n",
       "      <td>2000</td>\n",
       "      <td>0.747791</td>\n",
       "    </tr>\n",
       "    <tr>\n",
       "      <th>46</th>\n",
       "      <td>relu</td>\n",
       "      <td>0.1000</td>\n",
       "      <td>(120,)</td>\n",
       "      <td>2000</td>\n",
       "      <td>0.742803</td>\n",
       "    </tr>\n",
       "    <tr>\n",
       "      <th>47</th>\n",
       "      <td>relu</td>\n",
       "      <td>0.1000</td>\n",
       "      <td>(150,)</td>\n",
       "      <td>2000</td>\n",
       "      <td>0.740892</td>\n",
       "    </tr>\n",
       "    <tr>\n",
       "      <th>48</th>\n",
       "      <td>relu</td>\n",
       "      <td>1.0000</td>\n",
       "      <td>(60,)</td>\n",
       "      <td>2000</td>\n",
       "      <td>0.767869</td>\n",
       "    </tr>\n",
       "    <tr>\n",
       "      <th>49</th>\n",
       "      <td>relu</td>\n",
       "      <td>1.0000</td>\n",
       "      <td>(100,)</td>\n",
       "      <td>2000</td>\n",
       "      <td>0.769741</td>\n",
       "    </tr>\n",
       "    <tr>\n",
       "      <th>50</th>\n",
       "      <td>relu</td>\n",
       "      <td>1.0000</td>\n",
       "      <td>(120,)</td>\n",
       "      <td>2000</td>\n",
       "      <td>0.768479</td>\n",
       "    </tr>\n",
       "    <tr>\n",
       "      <th>51</th>\n",
       "      <td>relu</td>\n",
       "      <td>1.0000</td>\n",
       "      <td>(150,)</td>\n",
       "      <td>2000</td>\n",
       "      <td>0.769744</td>\n",
       "    </tr>\n",
       "    <tr>\n",
       "      <th>52</th>\n",
       "      <td>relu</td>\n",
       "      <td>10.0000</td>\n",
       "      <td>(60,)</td>\n",
       "      <td>2000</td>\n",
       "      <td>0.736494</td>\n",
       "    </tr>\n",
       "    <tr>\n",
       "      <th>53</th>\n",
       "      <td>relu</td>\n",
       "      <td>10.0000</td>\n",
       "      <td>(100,)</td>\n",
       "      <td>2000</td>\n",
       "      <td>0.732111</td>\n",
       "    </tr>\n",
       "    <tr>\n",
       "      <th>54</th>\n",
       "      <td>relu</td>\n",
       "      <td>10.0000</td>\n",
       "      <td>(120,)</td>\n",
       "      <td>2000</td>\n",
       "      <td>0.733365</td>\n",
       "    </tr>\n",
       "    <tr>\n",
       "      <th>55</th>\n",
       "      <td>relu</td>\n",
       "      <td>10.0000</td>\n",
       "      <td>(150,)</td>\n",
       "      <td>2000</td>\n",
       "      <td>0.733357</td>\n",
       "    </tr>\n",
       "  </tbody>\n",
       "</table>\n",
       "</div>"
      ],
      "text/plain": [
       "   activation    alpha hidden_layer_sizes  max_iter  Accuracy\n",
       "0    logistic   0.0001              (60,)      2000  0.725193\n",
       "1    logistic   0.0001             (100,)      2000  0.729583\n",
       "2    logistic   0.0001             (120,)      2000  0.728329\n",
       "3    logistic   0.0001             (150,)      2000  0.724568\n",
       "4    logistic   0.0050              (60,)      2000  0.723935\n",
       "5    logistic   0.0050             (100,)      2000  0.727712\n",
       "6    logistic   0.0050             (120,)      2000  0.726447\n",
       "7    logistic   0.0050             (150,)      2000  0.727087\n",
       "8    logistic   0.0100              (60,)      2000  0.725825\n",
       "9    logistic   0.0100             (100,)      2000  0.723310\n",
       "10   logistic   0.0100             (120,)      2000  0.728966\n",
       "11   logistic   0.0100             (150,)      2000  0.729587\n",
       "12   logistic   0.0500              (60,)      2000  0.725818\n",
       "13   logistic   0.0500             (100,)      2000  0.728333\n",
       "14   logistic   0.0500             (120,)      2000  0.724564\n",
       "15   logistic   0.0500             (150,)      2000  0.727704\n",
       "16   logistic   0.1000              (60,)      2000  0.725822\n",
       "17   logistic   0.1000             (100,)      2000  0.725822\n",
       "18   logistic   0.1000             (120,)      2000  0.727712\n",
       "19   logistic   0.1000             (150,)      2000  0.725818\n",
       "20   logistic   1.0000              (60,)      2000  0.725833\n",
       "21   logistic   1.0000             (100,)      2000  0.725841\n",
       "22   logistic   1.0000             (120,)      2000  0.724564\n",
       "23   logistic   1.0000             (150,)      2000  0.727716\n",
       "24   logistic  10.0000              (60,)      2000  0.553950\n",
       "25   logistic  10.0000             (100,)      2000  0.553950\n",
       "26   logistic  10.0000             (120,)      2000  0.553950\n",
       "27   logistic  10.0000             (150,)      2000  0.553950\n",
       "28       relu   0.0001              (60,)      2000  0.716466\n",
       "29       relu   0.0001             (100,)      2000  0.700118\n",
       "30       relu   0.0001             (120,)      2000  0.703880\n",
       "31       relu   0.0001             (150,)      2000  0.701360\n",
       "32       relu   0.0050              (60,)      2000  0.720798\n",
       "33       relu   0.0050             (100,)      2000  0.717693\n",
       "34       relu   0.0050             (120,)      2000  0.708306\n",
       "35       relu   0.0050             (150,)      2000  0.705747\n",
       "36       relu   0.0100              (60,)      2000  0.722095\n",
       "37       relu   0.0100             (100,)      2000  0.722697\n",
       "38       relu   0.0100             (120,)      2000  0.714591\n",
       "39       relu   0.0100             (150,)      2000  0.714528\n",
       "40       relu   0.0500              (60,)      2000  0.735853\n",
       "41       relu   0.0500             (100,)      2000  0.729627\n",
       "42       relu   0.0500             (120,)      2000  0.725849\n",
       "43       relu   0.0500             (150,)      2000  0.719575\n",
       "44       relu   0.1000              (60,)      2000  0.748447\n",
       "45       relu   0.1000             (100,)      2000  0.747791\n",
       "46       relu   0.1000             (120,)      2000  0.742803\n",
       "47       relu   0.1000             (150,)      2000  0.740892\n",
       "48       relu   1.0000              (60,)      2000  0.767869\n",
       "49       relu   1.0000             (100,)      2000  0.769741\n",
       "50       relu   1.0000             (120,)      2000  0.768479\n",
       "51       relu   1.0000             (150,)      2000  0.769744\n",
       "52       relu  10.0000              (60,)      2000  0.736494\n",
       "53       relu  10.0000             (100,)      2000  0.732111\n",
       "54       relu  10.0000             (120,)      2000  0.733365\n",
       "55       relu  10.0000             (150,)      2000  0.733357"
      ]
     },
     "execution_count": 35,
     "metadata": {},
     "output_type": "execute_result"
    }
   ],
   "source": [
    "tuned_parameters_MLP = [\n",
    "    {\n",
    "        'max_iter':[2000],\n",
    "        'alpha': [0.0001, 0.005, 0.01, 0.05, 0.1, 1, 10],\n",
    "        'activation': ['logistic', 'relu'],\n",
    "        'hidden_layer_sizes': [(60,), (100,), (120,), (150,)]\n",
    "    }\n",
    "]\n",
    "\n",
    "mlp = GridSearchCV(MLPClassifier(), tuned_parameters_MLP, scoring='accuracy', cv=10)\n",
    "mlp.fit(X_scaled_train, y_train)\n",
    "\n",
    "print(\"Best parameters set found on development set:\")\n",
    "print()\n",
    "print(mlp.best_params_)\n",
    "\n",
    "pd.concat([pd.DataFrame(mlp.cv_results_[\"params\"]),pd.DataFrame(mlp.cv_results_[\"mean_test_score\"], columns=[\"Accuracy\"])],axis=1)"
   ]
  },
  {
   "cell_type": "markdown",
   "metadata": {},
   "source": [
    "## Decision Tree"
   ]
  },
  {
   "cell_type": "code",
   "execution_count": 37,
   "metadata": {},
   "outputs": [
    {
     "name": "stdout",
     "output_type": "stream",
     "text": [
      "Best parameters set found on development set:\n",
      "\n",
      "{'min_samples_split': 40, 'random_state': 5}\n"
     ]
    },
    {
     "data": {
      "text/html": [
       "<div>\n",
       "<style scoped>\n",
       "    .dataframe tbody tr th:only-of-type {\n",
       "        vertical-align: middle;\n",
       "    }\n",
       "\n",
       "    .dataframe tbody tr th {\n",
       "        vertical-align: top;\n",
       "    }\n",
       "\n",
       "    .dataframe thead th {\n",
       "        text-align: right;\n",
       "    }\n",
       "</style>\n",
       "<table border=\"1\" class=\"dataframe\">\n",
       "  <thead>\n",
       "    <tr style=\"text-align: right;\">\n",
       "      <th></th>\n",
       "      <th>min_samples_split</th>\n",
       "      <th>random_state</th>\n",
       "      <th>Accuracy</th>\n",
       "    </tr>\n",
       "  </thead>\n",
       "  <tbody>\n",
       "    <tr>\n",
       "      <th>0</th>\n",
       "      <td>2</td>\n",
       "      <td>0</td>\n",
       "      <td>0.639088</td>\n",
       "    </tr>\n",
       "    <tr>\n",
       "      <th>1</th>\n",
       "      <td>2</td>\n",
       "      <td>1</td>\n",
       "      <td>0.637814</td>\n",
       "    </tr>\n",
       "    <tr>\n",
       "      <th>2</th>\n",
       "      <td>2</td>\n",
       "      <td>2</td>\n",
       "      <td>0.634068</td>\n",
       "    </tr>\n",
       "    <tr>\n",
       "      <th>3</th>\n",
       "      <td>2</td>\n",
       "      <td>5</td>\n",
       "      <td>0.634080</td>\n",
       "    </tr>\n",
       "    <tr>\n",
       "      <th>4</th>\n",
       "      <td>5</td>\n",
       "      <td>0</td>\n",
       "      <td>0.625892</td>\n",
       "    </tr>\n",
       "    <tr>\n",
       "      <th>5</th>\n",
       "      <td>5</td>\n",
       "      <td>1</td>\n",
       "      <td>0.632170</td>\n",
       "    </tr>\n",
       "    <tr>\n",
       "      <th>6</th>\n",
       "      <td>5</td>\n",
       "      <td>2</td>\n",
       "      <td>0.630291</td>\n",
       "    </tr>\n",
       "    <tr>\n",
       "      <th>7</th>\n",
       "      <td>5</td>\n",
       "      <td>5</td>\n",
       "      <td>0.641612</td>\n",
       "    </tr>\n",
       "    <tr>\n",
       "      <th>8</th>\n",
       "      <td>10</td>\n",
       "      <td>0</td>\n",
       "      <td>0.663557</td>\n",
       "    </tr>\n",
       "    <tr>\n",
       "      <th>9</th>\n",
       "      <td>10</td>\n",
       "      <td>1</td>\n",
       "      <td>0.664202</td>\n",
       "    </tr>\n",
       "    <tr>\n",
       "      <th>10</th>\n",
       "      <td>10</td>\n",
       "      <td>2</td>\n",
       "      <td>0.662944</td>\n",
       "    </tr>\n",
       "    <tr>\n",
       "      <th>11</th>\n",
       "      <td>10</td>\n",
       "      <td>5</td>\n",
       "      <td>0.667331</td>\n",
       "    </tr>\n",
       "    <tr>\n",
       "      <th>12</th>\n",
       "      <td>30</td>\n",
       "      <td>0</td>\n",
       "      <td>0.726961</td>\n",
       "    </tr>\n",
       "    <tr>\n",
       "      <th>13</th>\n",
       "      <td>30</td>\n",
       "      <td>1</td>\n",
       "      <td>0.726333</td>\n",
       "    </tr>\n",
       "    <tr>\n",
       "      <th>14</th>\n",
       "      <td>30</td>\n",
       "      <td>2</td>\n",
       "      <td>0.728215</td>\n",
       "    </tr>\n",
       "    <tr>\n",
       "      <th>15</th>\n",
       "      <td>30</td>\n",
       "      <td>5</td>\n",
       "      <td>0.728844</td>\n",
       "    </tr>\n",
       "    <tr>\n",
       "      <th>16</th>\n",
       "      <td>40</td>\n",
       "      <td>0</td>\n",
       "      <td>0.754611</td>\n",
       "    </tr>\n",
       "    <tr>\n",
       "      <th>17</th>\n",
       "      <td>40</td>\n",
       "      <td>1</td>\n",
       "      <td>0.755240</td>\n",
       "    </tr>\n",
       "    <tr>\n",
       "      <th>18</th>\n",
       "      <td>40</td>\n",
       "      <td>2</td>\n",
       "      <td>0.754615</td>\n",
       "    </tr>\n",
       "    <tr>\n",
       "      <th>19</th>\n",
       "      <td>40</td>\n",
       "      <td>5</td>\n",
       "      <td>0.756486</td>\n",
       "    </tr>\n",
       "  </tbody>\n",
       "</table>\n",
       "</div>"
      ],
      "text/plain": [
       "    min_samples_split  random_state  Accuracy\n",
       "0                   2             0  0.639088\n",
       "1                   2             1  0.637814\n",
       "2                   2             2  0.634068\n",
       "3                   2             5  0.634080\n",
       "4                   5             0  0.625892\n",
       "5                   5             1  0.632170\n",
       "6                   5             2  0.630291\n",
       "7                   5             5  0.641612\n",
       "8                  10             0  0.663557\n",
       "9                  10             1  0.664202\n",
       "10                 10             2  0.662944\n",
       "11                 10             5  0.667331\n",
       "12                 30             0  0.726961\n",
       "13                 30             1  0.726333\n",
       "14                 30             2  0.728215\n",
       "15                 30             5  0.728844\n",
       "16                 40             0  0.754611\n",
       "17                 40             1  0.755240\n",
       "18                 40             2  0.754615\n",
       "19                 40             5  0.756486"
      ]
     },
     "execution_count": 37,
     "metadata": {},
     "output_type": "execute_result"
    }
   ],
   "source": [
    "tuned_params_DT = [{\n",
    "    'min_samples_split': [2, 5, 10, 30, 40],\n",
    "    'random_state': [0, 1, 2, 5]\n",
    "}]\n",
    "\n",
    "dt = GridSearchCV(DecisionTreeClassifier(), tuned_params_DT, scoring='accuracy',cv=10)\n",
    "dt.fit(X_scaled_train, y_train)\n",
    "\n",
    "print(\"Best parameters set found on development set:\")\n",
    "print()\n",
    "print(dt.best_params_)\n",
    "\n",
    "pd.concat([pd.DataFrame(dt.cv_results_[\"params\"]),pd.DataFrame(dt.cv_results_[\"mean_test_score\"], columns=[\"Accuracy\"])],axis=1)"
   ]
  },
  {
   "cell_type": "markdown",
   "metadata": {},
   "source": [
    "## Training with all the data\n",
    "\n",
    "The best performing Machine Learning model for this project is Multi Layer Perceptron with an accuracy close to 76% using cross validation."
   ]
  },
  {
   "cell_type": "code",
   "execution_count": 121,
   "metadata": {},
   "outputs": [
    {
     "name": "stderr",
     "output_type": "stream",
     "text": [
      "C:\\ProgramData\\Anaconda3\\lib\\site-packages\\sklearn\\neural_network\\_multilayer_perceptron.py:582: ConvergenceWarning: Stochastic Optimizer: Maximum iterations (200) reached and the optimization hasn't converged yet.\n",
      "  warnings.warn(\n"
     ]
    },
    {
     "data": {
      "text/plain": [
       "0.792713567839196"
      ]
     },
     "execution_count": 121,
     "metadata": {},
     "output_type": "execute_result"
    }
   ],
   "source": [
    "clf_mlp = MLPClassifier(alpha=1, hidden_layer_sizes=(145, 100), activation='relu')\n",
    "clf_mlp.fit(X_scaled_train, y_train)\n",
    "\n",
    "clf_mlp.score(X_scaled_train, y_train)"
   ]
  },
  {
   "cell_type": "code",
   "execution_count": 122,
   "metadata": {},
   "outputs": [
    {
     "data": {
      "text/plain": [
       "(400, 12)"
      ]
     },
     "execution_count": 122,
     "metadata": {},
     "output_type": "execute_result"
    }
   ],
   "source": [
    "X_test_Employment_status = pd.get_dummies(X_test['Employment status'])\n",
    "X_test = X_test.join(X_test_Employment_status)\n",
    "\n",
    "X_test_OS = pd.get_dummies(X_test['Own home'])\n",
    "X_test = X_test.join(X_test_OS)\n",
    "\n",
    "X_test = X_test.drop(['Employment status', 'Own home'], axis=1)\n",
    "X_test.shape"
   ]
  },
  {
   "cell_type": "code",
   "execution_count": 123,
   "metadata": {},
   "outputs": [
    {
     "data": {
      "text/plain": [
       "(400, 12)"
      ]
     },
     "execution_count": 123,
     "metadata": {},
     "output_type": "execute_result"
    }
   ],
   "source": [
    "columns_to_standardize = ['Years at address', 'Current debt', 'Income', 'CCJs', 'Loan amount']\n",
    "scaler = StandardScaler().fit(X_test[columns_to_standardize])\n",
    "X_test_scaled = scaler.transform(X_test[columns_to_standardize])\n",
    "\n",
    "X_test[columns_to_standardize] = X_test_scaled\n",
    "X_test.shape"
   ]
  },
  {
   "cell_type": "code",
   "execution_count": 124,
   "metadata": {},
   "outputs": [
    {
     "data": {
      "text/plain": [
       "<matplotlib.legend.Legend at 0x17884acb040>"
      ]
     },
     "execution_count": 124,
     "metadata": {},
     "output_type": "execute_result"
    },
    {
     "data": {
      "image/png": "[encoded data removed]",
      "text/plain": [
       "<Figure size 432x288 with 1 Axes>"
      ]
     },
     "metadata": {
      "needs_background": "light"
     },
     "output_type": "display_data"
    }
   ],
   "source": [
    "plt.hist(clf_mlp.predict_proba(X_test))\n",
    "plt.legend(['Defaulted', 'paid'])"
   ]
  },
  {
   "cell_type": "code",
   "execution_count": 125,
   "metadata": {},
   "outputs": [
    {
     "data": {
      "text/plain": [
       "0.7675"
      ]
     },
     "execution_count": 125,
     "metadata": {},
     "output_type": "execute_result"
    }
   ],
   "source": [
    "predictions = clf_mlp.predict(X_test)\n",
    "accuracy_score(predictions, y_test)"
   ]
  },
  {
   "cell_type": "code",
   "execution_count": 126,
   "metadata": {},
   "outputs": [
    {
     "data": {
      "text/plain": [
       "(array([[38., 72., 69., 44., 19., 14., 20., 51., 37., 36.],\n",
       "        [36., 37., 51., 20., 14., 19., 44., 69., 72., 38.]]),\n",
       " array([0.03965351, 0.13172281, 0.22379211, 0.31586141, 0.4079307 ,\n",
       "        0.5       , 0.5920693 , 0.68413859, 0.77620789, 0.86827719,\n",
       "        0.96034649]),\n",
       " <a list of 2 BarContainer objects>)"
      ]
     },
     "execution_count": 126,
     "metadata": {},
     "output_type": "execute_result"
    },
    {
     "data": {
      "image/png": "[encoded data removed]",
      "text/plain": [
       "<Figure size 432x288 with 1 Axes>"
      ]
     },
     "metadata": {
      "needs_background": "light"
     },
     "output_type": "display_data"
    }
   ],
   "source": [
    "probability_predictions = clf_mlp.predict_proba(X_test)\n",
    "plt.hist(probability_predictions)"
   ]
  },
  {
   "cell_type": "code",
   "execution_count": 127,
   "metadata": {},
   "outputs": [
    {
     "data": {
      "text/plain": [
       "[<matplotlib.lines.Line2D at 0x178847cd6a0>,\n",
       " <matplotlib.lines.Line2D at 0x178845b0b50>,\n",
       " <matplotlib.lines.Line2D at 0x1788425f850>,\n",
       " <matplotlib.lines.Line2D at 0x1788425fa60>,\n",
       " <matplotlib.lines.Line2D at 0x1788425faf0>,\n",
       " <matplotlib.lines.Line2D at 0x1788425fbb0>,\n",
       " <matplotlib.lines.Line2D at 0x1788425fc70>,\n",
       " <matplotlib.lines.Line2D at 0x1788425fd30>,\n",
       " <matplotlib.lines.Line2D at 0x1788425fdf0>,\n",
       " <matplotlib.lines.Line2D at 0x1788425feb0>,\n",
       " <matplotlib.lines.Line2D at 0x1788425ff70>,\n",
       " <matplotlib.lines.Line2D at 0x17884236070>]"
      ]
     },
     "execution_count": 127,
     "metadata": {},
     "output_type": "execute_result"
    },
    {
     "data": {
      "image/png": "[encoded data removed]",
      "text/plain": [
       "<Figure size 432x288 with 1 Axes>"
      ]
     },
     "metadata": {
      "needs_background": "light"
     },
     "output_type": "display_data"
    }
   ],
   "source": [
    "plt.plot(X_test, y_test, '.r')"
   ]
  },
  {
   "cell_type": "code",
   "execution_count": 128,
   "metadata": {},
   "outputs": [
    {
     "data": {
      "image/png": "[encoded data removed]",
      "text/plain": [
       "<Figure size 576x576 with 1 Axes>"
      ]
     },
     "metadata": {
      "needs_background": "light"
     },
     "output_type": "display_data"
    }
   ],
   "source": [
    "from sklearn.metrics import confusion_matrix\n",
    "\n",
    "cm = confusion_matrix(y_test, predictions)\n",
    "\n",
    "\n",
    "fig, ax = plt.subplots(figsize=(8, 8))\n",
    "ax.imshow(cm)\n",
    "ax.grid(False)\n",
    "ax.xaxis.set(ticks=(0, 1), ticklabels=('Predicted Defaulted', 'Predicted Paid'))\n",
    "ax.yaxis.set(ticks=(0, 1), ticklabels=('Actual Defaulted', 'Actual Paid'))\n",
    "ax.set_ylim(1.5, -0.5)\n",
    "for i in range(2):\n",
    "    for j in range(2):\n",
    "        ax.text(j, i, cm[i, j], ha='center', va='center', color='red')\n",
    "plt.show()"
   ]
  },
  {
   "cell_type": "code",
   "execution_count": null,
   "metadata": {},
   "outputs": [],
   "source": []
  }
 ],
 "metadata": {
  "kernelspec": {
   "display_name": "Python 3",
   "language": "python",
   "name": "python3"
  },
  "language_info": {
   "codemirror_mode": {
    "name": "ipython",
    "version": 3
   },
   "file_extension": ".py",
   "mimetype": "text/x-python",
   "name": "python",
   "nbconvert_exporter": "python",
   "pygments_lexer": "ipython3",
   "version": "3.8.5"
  }
 },
 "nbformat": 4,
 "nbformat_minor": 4
}
